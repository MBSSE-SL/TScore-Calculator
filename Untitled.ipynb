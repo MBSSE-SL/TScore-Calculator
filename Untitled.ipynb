{
 "cells": [
  {
   "cell_type": "code",
   "execution_count": 1,
   "id": "0ee8b886",
   "metadata": {},
   "outputs": [
    {
     "data": {
      "text/plain": [
       "2.0"
      ]
     },
     "execution_count": 1,
     "metadata": {},
     "output_type": "execute_result"
    }
   ],
   "source": [
    "(100-80)/10"
   ]
  },
  {
   "cell_type": "code",
   "execution_count": 2,
   "id": "3f61b1df",
   "metadata": {},
   "outputs": [
    {
     "data": {
      "text/plain": [
       "20.0"
      ]
     },
     "execution_count": 2,
     "metadata": {},
     "output_type": "execute_result"
    }
   ],
   "source": [
    "10*(100-80)/10"
   ]
  },
  {
   "cell_type": "code",
   "execution_count": 7,
   "id": "60586b43",
   "metadata": {},
   "outputs": [
    {
     "data": {
      "text/plain": [
       "70.0"
      ]
     },
     "execution_count": 7,
     "metadata": {},
     "output_type": "execute_result"
    }
   ],
   "source": [
    "50+10*(100-80)/10"
   ]
  },
  {
   "cell_type": "code",
   "execution_count": null,
   "id": "178fe34a",
   "metadata": {},
   "outputs": [],
   "source": [
    "input = (raw,avd)"
   ]
  },
  {
   "cell_type": "code",
   "execution_count": null,
   "id": "1c915cc7",
   "metadata": {},
   "outputs": [],
   "source": [
    "output = avg tscore"
   ]
  },
  {
   "cell_type": "code",
   "execution_count": 1,
   "id": "7d34b55a",
   "metadata": {},
   "outputs": [
    {
     "data": {
      "text/plain": [
       "70.0"
      ]
     },
     "execution_count": 1,
     "metadata": {},
     "output_type": "execute_result"
    }
   ],
   "source": [
    "50+10*(100-80)/10"
   ]
  },
  {
   "cell_type": "code",
   "execution_count": null,
   "id": "9d0ffa96",
   "metadata": {},
   "outputs": [],
   "source": []
  }
 ],
 "metadata": {
  "kernelspec": {
   "display_name": "Python 3 (ipykernel)",
   "language": "python",
   "name": "python3"
  },
  "language_info": {
   "codemirror_mode": {
    "name": "ipython",
    "version": 3
   },
   "file_extension": ".py",
   "mimetype": "text/x-python",
   "name": "python",
   "nbconvert_exporter": "python",
   "pygments_lexer": "ipython3",
   "version": "3.8.5"
  }
 },
 "nbformat": 4,
 "nbformat_minor": 5
}
